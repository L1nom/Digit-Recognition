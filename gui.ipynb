{
 "cells": [
  {
   "cell_type": "code",
   "execution_count": null,
   "metadata": {},
   "outputs": [],
   "source": [
    "from PIL import ImageTk, Image, ImageDraw, ImageGrab\n",
    "from tkinter import *\n",
    "from tensorflow import keras # can comment this if only trying to draw and save images\n",
    "\n",
    "model = keras.models.load_model('emnist.model')\n",
    "# do pip install Pillow for PIL library\n",
    "\n",
    "white = (255, 255, 255)\n",
    "\n",
    "\n",
    "def predict():\n",
    "    box = (canvas.winfo_rootx(), canvas.winfo_rooty(), canvas.winfo_rootx() + canvas.winfo_width(),\n",
    "           canvas.winfo_rooty() + canvas.winfo_height())\n",
    "    grab = ImageGrab.grab(bbox=box)\n",
    "    grab = grab.convert(\"L\")\n",
    "    grab = grab.resize((28, 28))\n",
    "#     grab.save(\"images/image.png\") in order to save image to working directory.\n",
    "    img = np.array(grab)\n",
    "    img = np.invert(np.array([img]))\n",
    "    img = img.reshape(1,28,28,1)\n",
    "    img = img/255\n",
    "    predict = model.predict(img)\n",
    "    final_predict = char_labels[np.argmax(predict)]\n",
    "    label.configure(text=\"Finished thinking....it is: \" + str(final_predict))\n",
    "    \n",
    "\n",
    "def clear():\n",
    "    canvas.delete(\"all\")\n",
    "\n",
    "\n",
    "def paint(event):\n",
    "    x1, y1 = (event.x - 1), (event.y - 1)\n",
    "    x2, y2 = (event.x + 1), (event.y + 1)\n",
    "    canvas.create_rectangle(x1, y1, x2, y1, fill=\"black\", width=10)\n",
    "\n",
    "\n",
    "root = Tk()\n",
    "\n",
    "canvas = Canvas(root, width=276, height=276, bg='white')\n",
    "canvas.pack()\n",
    "\n",
    "canvas.bind(\"<B1-Motion>\", paint)\n",
    "\n",
    "button_save = Button(text=\"Predict\", command=predict)\n",
    "button_clear = Button(text=\"Clear\", command=clear)\n",
    "label = Label(text=\"Thinking\", font=(\"Arial\", 32))\n",
    "label.pack()\n",
    "button_save.pack()\n",
    "button_clear.pack()\n",
    "\n",
    "root.mainloop()"
   ]
  }
 ],
 "metadata": {
  "kernelspec": {
   "display_name": "Python 3",
   "language": "python",
   "name": "python3"
  },
  "language_info": {
   "codemirror_mode": {
    "name": "ipython",
    "version": 3
   },
   "file_extension": ".py",
   "mimetype": "text/x-python",
   "name": "python",
   "nbconvert_exporter": "python",
   "pygments_lexer": "ipython3",
   "version": "3.8.5"
  }
 },
 "nbformat": 4,
 "nbformat_minor": 4
}
